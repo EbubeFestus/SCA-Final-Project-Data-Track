{
  "cells": [
    {
      "cell_type": "markdown",
      "source": [
        "# Zomato Price Prediction\n",
        "\n",
        "**Inorder to predict the future price range of each cuisine, I employed machine learning using the Linear Regression model since I would be predicting price which is continuous and numerical.**"
      ],
      "metadata": {
        "id": "ni3w5_7PM1-I"
      },
      "id": "ni3w5_7PM1-I"
    },
    {
      "cell_type": "code",
      "execution_count": null,
      "id": "d5cfae99",
      "metadata": {
        "id": "d5cfae99",
        "outputId": "4c7fde6c-9d65-42c4-98b1-18b5ea5d629c"
      },
      "outputs": [
        {
          "name": "stderr",
          "output_type": "stream",
          "text": [
            "UsageError: Line magic function `%` not found.\n"
          ]
        }
      ],
      "source": [
        "import numpy as np\n",
        "import pandas as pd\n",
        "import matplotlib.pyplot as plt\n",
        "import plotly.express as px\n",
        "import seaborn as sns\n",
        "% matplotlib inline"
      ]
    },
    {
      "cell_type": "code",
      "execution_count": null,
      "id": "d0edd274",
      "metadata": {
        "id": "d0edd274",
        "outputId": "fcf9f155-d027-461a-83a6-e4ef9ca6b10a"
      },
      "outputs": [
        {
          "data": {
            "text/html": [
              "<div>\n",
              "<style scoped>\n",
              "    .dataframe tbody tr th:only-of-type {\n",
              "        vertical-align: middle;\n",
              "    }\n",
              "\n",
              "    .dataframe tbody tr th {\n",
              "        vertical-align: top;\n",
              "    }\n",
              "\n",
              "    .dataframe thead th {\n",
              "        text-align: right;\n",
              "    }\n",
              "</style>\n",
              "<table border=\"1\" class=\"dataframe\">\n",
              "  <thead>\n",
              "    <tr style=\"text-align: right;\">\n",
              "      <th></th>\n",
              "      <th>Restaurant_ID</th>\n",
              "      <th>Restaurant_Name</th>\n",
              "      <th>Country_Code</th>\n",
              "      <th>City</th>\n",
              "      <th>Address</th>\n",
              "      <th>Locality</th>\n",
              "      <th>Locality_Verbose</th>\n",
              "      <th>Longitude</th>\n",
              "      <th>Latitude</th>\n",
              "      <th>Cuisines</th>\n",
              "      <th>...</th>\n",
              "      <th>Currency</th>\n",
              "      <th>Has_Table_booking</th>\n",
              "      <th>Has_Online_delivery</th>\n",
              "      <th>Is_delivering_now</th>\n",
              "      <th>Switch_to_order_menu</th>\n",
              "      <th>Price_range</th>\n",
              "      <th>Aggregate_rating</th>\n",
              "      <th>Rating_color</th>\n",
              "      <th>Rating_text</th>\n",
              "      <th>Votes</th>\n",
              "    </tr>\n",
              "  </thead>\n",
              "  <tbody>\n",
              "    <tr>\n",
              "      <th>0</th>\n",
              "      <td>6317637</td>\n",
              "      <td>Le Petit Souffle</td>\n",
              "      <td>Phillipines</td>\n",
              "      <td>Makati City</td>\n",
              "      <td>Third Floor, Century City Mall, Kalayaan Avenu...</td>\n",
              "      <td>Century City Mall, Poblacion, Makati City</td>\n",
              "      <td>Century City Mall, Poblacion, Makati City, Mak...</td>\n",
              "      <td>121.027535</td>\n",
              "      <td>14.565443</td>\n",
              "      <td>French, Japanese, Desserts</td>\n",
              "      <td>...</td>\n",
              "      <td>Botswana Pula(P)</td>\n",
              "      <td>Yes</td>\n",
              "      <td>No</td>\n",
              "      <td>No</td>\n",
              "      <td>No</td>\n",
              "      <td>3</td>\n",
              "      <td>4.8</td>\n",
              "      <td>Dark Green</td>\n",
              "      <td>Excellent</td>\n",
              "      <td>314</td>\n",
              "    </tr>\n",
              "    <tr>\n",
              "      <th>1</th>\n",
              "      <td>6304287</td>\n",
              "      <td>Izakaya Kikufuji</td>\n",
              "      <td>Phillipines</td>\n",
              "      <td>Makati City</td>\n",
              "      <td>Little Tokyo, 2277 Chino Roces Avenue, Legaspi...</td>\n",
              "      <td>Little Tokyo, Legaspi Village, Makati City</td>\n",
              "      <td>Little Tokyo, Legaspi Village, Makati City, Ma...</td>\n",
              "      <td>121.014101</td>\n",
              "      <td>14.553708</td>\n",
              "      <td>Japanese</td>\n",
              "      <td>...</td>\n",
              "      <td>Botswana Pula(P)</td>\n",
              "      <td>Yes</td>\n",
              "      <td>No</td>\n",
              "      <td>No</td>\n",
              "      <td>No</td>\n",
              "      <td>3</td>\n",
              "      <td>4.5</td>\n",
              "      <td>Dark Green</td>\n",
              "      <td>Excellent</td>\n",
              "      <td>591</td>\n",
              "    </tr>\n",
              "    <tr>\n",
              "      <th>2</th>\n",
              "      <td>6300002</td>\n",
              "      <td>Heat - Edsa Shangri-La</td>\n",
              "      <td>Phillipines</td>\n",
              "      <td>Mandaluyong City</td>\n",
              "      <td>Edsa Shangri-La, 1 Garden Way, Ortigas, Mandal...</td>\n",
              "      <td>Edsa Shangri-La, Ortigas, Mandaluyong City</td>\n",
              "      <td>Edsa Shangri-La, Ortigas, Mandaluyong City, Ma...</td>\n",
              "      <td>121.056831</td>\n",
              "      <td>14.581404</td>\n",
              "      <td>Seafood, Asian, Filipino, Indian</td>\n",
              "      <td>...</td>\n",
              "      <td>Botswana Pula(P)</td>\n",
              "      <td>Yes</td>\n",
              "      <td>No</td>\n",
              "      <td>No</td>\n",
              "      <td>No</td>\n",
              "      <td>4</td>\n",
              "      <td>4.4</td>\n",
              "      <td>Green</td>\n",
              "      <td>Very Good</td>\n",
              "      <td>270</td>\n",
              "    </tr>\n",
              "    <tr>\n",
              "      <th>3</th>\n",
              "      <td>6318506</td>\n",
              "      <td>Ooma</td>\n",
              "      <td>Phillipines</td>\n",
              "      <td>Mandaluyong City</td>\n",
              "      <td>Third Floor, Mega Fashion Hall, SM Megamall, O...</td>\n",
              "      <td>SM Megamall, Ortigas, Mandaluyong City</td>\n",
              "      <td>SM Megamall, Ortigas, Mandaluyong City, Mandal...</td>\n",
              "      <td>121.056475</td>\n",
              "      <td>14.585318</td>\n",
              "      <td>Japanese, Sushi</td>\n",
              "      <td>...</td>\n",
              "      <td>Botswana Pula(P)</td>\n",
              "      <td>No</td>\n",
              "      <td>No</td>\n",
              "      <td>No</td>\n",
              "      <td>No</td>\n",
              "      <td>4</td>\n",
              "      <td>4.9</td>\n",
              "      <td>Dark Green</td>\n",
              "      <td>Excellent</td>\n",
              "      <td>365</td>\n",
              "    </tr>\n",
              "    <tr>\n",
              "      <th>4</th>\n",
              "      <td>6314302</td>\n",
              "      <td>Sambo Kojin</td>\n",
              "      <td>Phillipines</td>\n",
              "      <td>Mandaluyong City</td>\n",
              "      <td>Third Floor, Mega Atrium, SM Megamall, Ortigas...</td>\n",
              "      <td>SM Megamall, Ortigas, Mandaluyong City</td>\n",
              "      <td>SM Megamall, Ortigas, Mandaluyong City, Mandal...</td>\n",
              "      <td>121.057508</td>\n",
              "      <td>14.584450</td>\n",
              "      <td>Japanese, Korean</td>\n",
              "      <td>...</td>\n",
              "      <td>Botswana Pula(P)</td>\n",
              "      <td>Yes</td>\n",
              "      <td>No</td>\n",
              "      <td>No</td>\n",
              "      <td>No</td>\n",
              "      <td>4</td>\n",
              "      <td>4.8</td>\n",
              "      <td>Dark Green</td>\n",
              "      <td>Excellent</td>\n",
              "      <td>229</td>\n",
              "    </tr>\n",
              "  </tbody>\n",
              "</table>\n",
              "<p>5 rows × 21 columns</p>\n",
              "</div>"
            ],
            "text/plain": [
              "   Restaurant_ID         Restaurant_Name Country_Code              City  \\\n",
              "0        6317637        Le Petit Souffle  Phillipines       Makati City   \n",
              "1        6304287        Izakaya Kikufuji  Phillipines       Makati City   \n",
              "2        6300002  Heat - Edsa Shangri-La  Phillipines  Mandaluyong City   \n",
              "3        6318506                    Ooma  Phillipines  Mandaluyong City   \n",
              "4        6314302             Sambo Kojin  Phillipines  Mandaluyong City   \n",
              "\n",
              "                                             Address  \\\n",
              "0  Third Floor, Century City Mall, Kalayaan Avenu...   \n",
              "1  Little Tokyo, 2277 Chino Roces Avenue, Legaspi...   \n",
              "2  Edsa Shangri-La, 1 Garden Way, Ortigas, Mandal...   \n",
              "3  Third Floor, Mega Fashion Hall, SM Megamall, O...   \n",
              "4  Third Floor, Mega Atrium, SM Megamall, Ortigas...   \n",
              "\n",
              "                                     Locality  \\\n",
              "0   Century City Mall, Poblacion, Makati City   \n",
              "1  Little Tokyo, Legaspi Village, Makati City   \n",
              "2  Edsa Shangri-La, Ortigas, Mandaluyong City   \n",
              "3      SM Megamall, Ortigas, Mandaluyong City   \n",
              "4      SM Megamall, Ortigas, Mandaluyong City   \n",
              "\n",
              "                                    Locality_Verbose   Longitude   Latitude  \\\n",
              "0  Century City Mall, Poblacion, Makati City, Mak...  121.027535  14.565443   \n",
              "1  Little Tokyo, Legaspi Village, Makati City, Ma...  121.014101  14.553708   \n",
              "2  Edsa Shangri-La, Ortigas, Mandaluyong City, Ma...  121.056831  14.581404   \n",
              "3  SM Megamall, Ortigas, Mandaluyong City, Mandal...  121.056475  14.585318   \n",
              "4  SM Megamall, Ortigas, Mandaluyong City, Mandal...  121.057508  14.584450   \n",
              "\n",
              "                           Cuisines  ...          Currency Has_Table_booking  \\\n",
              "0        French, Japanese, Desserts  ...  Botswana Pula(P)               Yes   \n",
              "1                          Japanese  ...  Botswana Pula(P)               Yes   \n",
              "2  Seafood, Asian, Filipino, Indian  ...  Botswana Pula(P)               Yes   \n",
              "3                   Japanese, Sushi  ...  Botswana Pula(P)                No   \n",
              "4                  Japanese, Korean  ...  Botswana Pula(P)               Yes   \n",
              "\n",
              "  Has_Online_delivery Is_delivering_now Switch_to_order_menu Price_range  \\\n",
              "0                  No                No                   No           3   \n",
              "1                  No                No                   No           3   \n",
              "2                  No                No                   No           4   \n",
              "3                  No                No                   No           4   \n",
              "4                  No                No                   No           4   \n",
              "\n",
              "   Aggregate_rating  Rating_color Rating_text Votes  \n",
              "0               4.8    Dark Green   Excellent   314  \n",
              "1               4.5    Dark Green   Excellent   591  \n",
              "2               4.4         Green   Very Good   270  \n",
              "3               4.9    Dark Green   Excellent   365  \n",
              "4               4.8    Dark Green   Excellent   229  \n",
              "\n",
              "[5 rows x 21 columns]"
            ]
          },
          "execution_count": 5,
          "metadata": {},
          "output_type": "execute_result"
        }
      ],
      "source": [
        "#importing zomato data set\n",
        "zomato = pd.read_csv('zomato.csv', encoding = \"ISO-8859-1\")\n",
        "zomato.head()"
      ]
    },
    {
      "cell_type": "code",
      "execution_count": null,
      "id": "c469ca23",
      "metadata": {
        "id": "c469ca23"
      },
      "outputs": [],
      "source": [
        "#used to hold my original datset\n",
        "originalFeatures = zomato.columns\n"
      ]
    },
    {
      "cell_type": "markdown",
      "source": [
        "**Generating heatmap to see the correlation of my numeric features to price.**"
      ],
      "metadata": {
        "id": "vKQvf6JZN18d"
      },
      "id": "vKQvf6JZN18d"
    },
    {
      "cell_type": "code",
      "execution_count": null,
      "id": "fd536d83",
      "metadata": {
        "id": "fd536d83",
        "outputId": "1abd0b12-d4fb-4804-f916-02edf1d4223a"
      },
      "outputs": [
        {
          "data": {
            "text/plain": [
              "<AxesSubplot:>"
            ]
          },
          "execution_count": 9,
          "metadata": {},
          "output_type": "execute_result"
        },
        {
          "data": {
            "image/png": "[encoded data removed]",
            "text/plain": [
              "<Figure size 864x648 with 2 Axes>"
            ]
          },
          "metadata": {},
          "output_type": "display_data"
        }
      ],
      "source": [
        "\n",
        "sns.set(rc = {'figure.figsize':(12,9)})\n",
        "sns.heatmap(zomato.corr())"
      ]
    },
    {
      "cell_type": "markdown",
      "source": [
        "In order to determine the features I would be dropping, I thought about what could influence the price of the cuisine from the features. Rating, currency, location, etc could influence the price. I also used the heatmap to see the numerical features that were correlated with price to also guide my choice of features I would be using to predict price. Based on the color density on the heatmap, it can be drawn that restaurant ID, longitude, latitude, and the average cost for two had a strong correlation with price.\n",
        "\n"
      ],
      "metadata": {
        "id": "BAiZyjdpOMTk"
      },
      "id": "BAiZyjdpOMTk"
    },
    {
      "cell_type": "code",
      "execution_count": null,
      "id": "f8ed7df5",
      "metadata": {
        "id": "f8ed7df5",
        "outputId": "1ca2f27a-2fec-4878-d558-632d479c06b9"
      },
      "outputs": [
        {
          "name": "stderr",
          "output_type": "stream",
          "text": [
            "C:\\Users\\Kendor01\\AppData\\Local\\Temp\\ipykernel_9284\\4155726583.py:8: FutureWarning: In a future version of pandas all arguments of DataFrame.drop except for the argument 'labels' will be keyword-only.\n",
            "  zomato = zomato.drop(drop, 1)\n",
            "C:\\Users\\Kendor01\\AppData\\Local\\Temp\\ipykernel_9284\\4155726583.py:8: FutureWarning: In a future version of pandas all arguments of DataFrame.drop except for the argument 'labels' will be keyword-only.\n",
            "  zomato = zomato.drop(drop, 1)\n",
            "C:\\Users\\Kendor01\\AppData\\Local\\Temp\\ipykernel_9284\\4155726583.py:8: FutureWarning: In a future version of pandas all arguments of DataFrame.drop except for the argument 'labels' will be keyword-only.\n",
            "  zomato = zomato.drop(drop, 1)\n",
            "C:\\Users\\Kendor01\\AppData\\Local\\Temp\\ipykernel_9284\\4155726583.py:8: FutureWarning: In a future version of pandas all arguments of DataFrame.drop except for the argument 'labels' will be keyword-only.\n",
            "  zomato = zomato.drop(drop, 1)\n",
            "C:\\Users\\Kendor01\\AppData\\Local\\Temp\\ipykernel_9284\\4155726583.py:8: FutureWarning: In a future version of pandas all arguments of DataFrame.drop except for the argument 'labels' will be keyword-only.\n",
            "  zomato = zomato.drop(drop, 1)\n",
            "C:\\Users\\Kendor01\\AppData\\Local\\Temp\\ipykernel_9284\\4155726583.py:8: FutureWarning: In a future version of pandas all arguments of DataFrame.drop except for the argument 'labels' will be keyword-only.\n",
            "  zomato = zomato.drop(drop, 1)\n",
            "C:\\Users\\Kendor01\\AppData\\Local\\Temp\\ipykernel_9284\\4155726583.py:8: FutureWarning: In a future version of pandas all arguments of DataFrame.drop except for the argument 'labels' will be keyword-only.\n",
            "  zomato = zomato.drop(drop, 1)\n",
            "C:\\Users\\Kendor01\\AppData\\Local\\Temp\\ipykernel_9284\\4155726583.py:8: FutureWarning: In a future version of pandas all arguments of DataFrame.drop except for the argument 'labels' will be keyword-only.\n",
            "  zomato = zomato.drop(drop, 1)\n",
            "C:\\Users\\Kendor01\\AppData\\Local\\Temp\\ipykernel_9284\\4155726583.py:8: FutureWarning: In a future version of pandas all arguments of DataFrame.drop except for the argument 'labels' will be keyword-only.\n",
            "  zomato = zomato.drop(drop, 1)\n",
            "C:\\Users\\Kendor01\\AppData\\Local\\Temp\\ipykernel_9284\\4155726583.py:8: FutureWarning: In a future version of pandas all arguments of DataFrame.drop except for the argument 'labels' will be keyword-only.\n",
            "  zomato = zomato.drop(drop, 1)\n",
            "C:\\Users\\Kendor01\\AppData\\Local\\Temp\\ipykernel_9284\\4155726583.py:8: FutureWarning: In a future version of pandas all arguments of DataFrame.drop except for the argument 'labels' will be keyword-only.\n",
            "  zomato = zomato.drop(drop, 1)\n",
            "C:\\Users\\Kendor01\\AppData\\Local\\Temp\\ipykernel_9284\\4155726583.py:8: FutureWarning: In a future version of pandas all arguments of DataFrame.drop except for the argument 'labels' will be keyword-only.\n",
            "  zomato = zomato.drop(drop, 1)\n"
          ]
        }
      ],
      "source": [
        "#dropping some data that are not very relevant to my model\n",
        "while True:\n",
        "        try:\n",
        "            drops = ['Restaurant_Name','Restaurant_ID','City','Address','Locality',\\\n",
        "         'Locality_Verbose','Country_Code','Has_Table_booking',\\\n",
        "         'Switch_to_order_menu','Rating_color','Cuisines'] \n",
        "            for drop in drops: \n",
        "                zomato = zomato.drop(drop, 1)\n",
        "        except KeyError:\n",
        "            break"
      ]
    },
    {
      "cell_type": "markdown",
      "source": [
        "Therefore, I dropped some features which I believe are irrelevant to my prediction. Features like restaurant_name, table booking, switch to order menu, rating color, and cuisines. Checked the original features to see the features remaining."
      ],
      "metadata": {
        "id": "hmyUTTJ0OdDZ"
      },
      "id": "hmyUTTJ0OdDZ"
    },
    {
      "cell_type": "code",
      "execution_count": null,
      "id": "c79b298b",
      "metadata": {
        "id": "c79b298b",
        "outputId": "695c0c79-9072-4bf9-ced0-4a676b19a26d"
      },
      "outputs": [
        {
          "name": "stdout",
          "output_type": "stream",
          "text": [
            "original to new count 21 10\n",
            "    Longitude   Latitude  Average_Cost_for_two          Currency  \\\n",
            "0  121.027535  14.565443                  1100  Botswana Pula(P)   \n",
            "1  121.014101  14.553708                  1200  Botswana Pula(P)   \n",
            "2  121.056831  14.581404                  4000  Botswana Pula(P)   \n",
            "3  121.056475  14.585318                  1500  Botswana Pula(P)   \n",
            "4  121.057508  14.584450                  1500  Botswana Pula(P)   \n",
            "\n",
            "  Has_Online_delivery Is_delivering_now  Price_range  Aggregate_rating  \\\n",
            "0                  No                No            3               4.8   \n",
            "1                  No                No            3               4.5   \n",
            "2                  No                No            4               4.4   \n",
            "3                  No                No            4               4.9   \n",
            "4                  No                No            4               4.8   \n",
            "\n",
            "  Rating_text  Votes  \n",
            "0   Excellent    314  \n",
            "1   Excellent    591  \n",
            "2   Very Good    270  \n",
            "3   Excellent    365  \n",
            "4   Excellent    229  \n"
          ]
        }
      ],
      "source": [
        "#check the colunms we have after dropping some features\n",
        "print('original to new count', len(originalFeatures), len(zomato.columns)) \n",
        "print (zomato.head())\n",
        "\n"
      ]
    },
    {
      "cell_type": "markdown",
      "source": [
        "Imported linear regression model and the label encoder to convert the features with text to numbers since this model works with numbers.I converted the rating text, delivering now, currency, and online delivery to integers."
      ],
      "metadata": {
        "id": "bo4g7ytlOswP"
      },
      "id": "bo4g7ytlOswP"
    },
    {
      "cell_type": "code",
      "execution_count": null,
      "id": "5bfbfa9b",
      "metadata": {
        "id": "5bfbfa9b"
      },
      "outputs": [],
      "source": [
        "#importing linear regression\n",
        "from sklearn.linear_model import LinearRegression\n",
        "from sklearn.preprocessing import LabelEncoder #converts text to numbers"
      ]
    },
    {
      "cell_type": "code",
      "execution_count": null,
      "id": "e53bc805",
      "metadata": {
        "id": "e53bc805"
      },
      "outputs": [],
      "source": [
        "#preprocessing obj data data type to integers to enable it fit my linear regression model  \n",
        "label = LabelEncoder()\n",
        "\n",
        "#changing Rating_text to int\n",
        "label.fit(zomato.Rating_text.drop_duplicates())\n",
        "zomato.Rating_text = label.transform(zomato.Rating_text)\n",
        "\n",
        "#changing Is_delivering_now to int\n",
        "label.fit(zomato.Is_delivering_now.drop_duplicates())\n",
        "zomato.Is_delivering_now = label.transform(zomato.Is_delivering_now)\n",
        "\n",
        "#changing Currency to int\n",
        "label.fit(zomato.Currency.drop_duplicates())\n",
        "zomato.Currency = label.transform(zomato.Currency)\n",
        "\n",
        "#changing Has_Online_delivery.drop to int\n",
        "label.fit(zomato.Has_Online_delivery.drop_duplicates())\n",
        "zomato.Has_Online_delivery = label.transform(zomato.Has_Online_delivery)"
      ]
    },
    {
      "cell_type": "code",
      "execution_count": null,
      "id": "ca7552fb",
      "metadata": {
        "id": "ca7552fb",
        "outputId": "c529ded1-c052-41c6-e8b7-93398e038152"
      },
      "outputs": [
        {
          "data": {
            "text/html": [
              "<div>\n",
              "<style scoped>\n",
              "    .dataframe tbody tr th:only-of-type {\n",
              "        vertical-align: middle;\n",
              "    }\n",
              "\n",
              "    .dataframe tbody tr th {\n",
              "        vertical-align: top;\n",
              "    }\n",
              "\n",
              "    .dataframe thead th {\n",
              "        text-align: right;\n",
              "    }\n",
              "</style>\n",
              "<table border=\"1\" class=\"dataframe\">\n",
              "  <thead>\n",
              "    <tr style=\"text-align: right;\">\n",
              "      <th></th>\n",
              "      <th>Longitude</th>\n",
              "      <th>Latitude</th>\n",
              "      <th>Average_Cost_for_two</th>\n",
              "      <th>Currency</th>\n",
              "      <th>Has_Online_delivery</th>\n",
              "      <th>Is_delivering_now</th>\n",
              "      <th>Price_range</th>\n",
              "      <th>Aggregate_rating</th>\n",
              "      <th>Rating_text</th>\n",
              "      <th>Votes</th>\n",
              "    </tr>\n",
              "  </thead>\n",
              "  <tbody>\n",
              "    <tr>\n",
              "      <th>0</th>\n",
              "      <td>121.027535</td>\n",
              "      <td>14.565443</td>\n",
              "      <td>1100</td>\n",
              "      <td>0</td>\n",
              "      <td>0</td>\n",
              "      <td>0</td>\n",
              "      <td>3</td>\n",
              "      <td>4.8</td>\n",
              "      <td>1</td>\n",
              "      <td>314</td>\n",
              "    </tr>\n",
              "    <tr>\n",
              "      <th>1</th>\n",
              "      <td>121.014101</td>\n",
              "      <td>14.553708</td>\n",
              "      <td>1200</td>\n",
              "      <td>0</td>\n",
              "      <td>0</td>\n",
              "      <td>0</td>\n",
              "      <td>3</td>\n",
              "      <td>4.5</td>\n",
              "      <td>1</td>\n",
              "      <td>591</td>\n",
              "    </tr>\n",
              "    <tr>\n",
              "      <th>2</th>\n",
              "      <td>121.056831</td>\n",
              "      <td>14.581404</td>\n",
              "      <td>4000</td>\n",
              "      <td>0</td>\n",
              "      <td>0</td>\n",
              "      <td>0</td>\n",
              "      <td>4</td>\n",
              "      <td>4.4</td>\n",
              "      <td>5</td>\n",
              "      <td>270</td>\n",
              "    </tr>\n",
              "    <tr>\n",
              "      <th>3</th>\n",
              "      <td>121.056475</td>\n",
              "      <td>14.585318</td>\n",
              "      <td>1500</td>\n",
              "      <td>0</td>\n",
              "      <td>0</td>\n",
              "      <td>0</td>\n",
              "      <td>4</td>\n",
              "      <td>4.9</td>\n",
              "      <td>1</td>\n",
              "      <td>365</td>\n",
              "    </tr>\n",
              "    <tr>\n",
              "      <th>4</th>\n",
              "      <td>121.057508</td>\n",
              "      <td>14.584450</td>\n",
              "      <td>1500</td>\n",
              "      <td>0</td>\n",
              "      <td>0</td>\n",
              "      <td>0</td>\n",
              "      <td>4</td>\n",
              "      <td>4.8</td>\n",
              "      <td>1</td>\n",
              "      <td>229</td>\n",
              "    </tr>\n",
              "  </tbody>\n",
              "</table>\n",
              "</div>"
            ],
            "text/plain": [
              "    Longitude   Latitude  Average_Cost_for_two  Currency  Has_Online_delivery  \\\n",
              "0  121.027535  14.565443                  1100         0                    0   \n",
              "1  121.014101  14.553708                  1200         0                    0   \n",
              "2  121.056831  14.581404                  4000         0                    0   \n",
              "3  121.056475  14.585318                  1500         0                    0   \n",
              "4  121.057508  14.584450                  1500         0                    0   \n",
              "\n",
              "   Is_delivering_now  Price_range  Aggregate_rating  Rating_text  Votes  \n",
              "0                  0            3               4.8            1    314  \n",
              "1                  0            3               4.5            1    591  \n",
              "2                  0            4               4.4            5    270  \n",
              "3                  0            4               4.9            1    365  \n",
              "4                  0            4               4.8            1    229  "
            ]
          },
          "execution_count": 14,
          "metadata": {},
          "output_type": "execute_result"
        }
      ],
      "source": [
        "zomato.head()"
      ]
    },
    {
      "cell_type": "code",
      "execution_count": null,
      "id": "4158abb8",
      "metadata": {
        "id": "4158abb8",
        "outputId": "b371182c-617c-45fd-95f6-3048ee50d4be"
      },
      "outputs": [
        {
          "data": {
            "text/plain": [
              "<AxesSubplot:>"
            ]
          },
          "execution_count": 15,
          "metadata": {},
          "output_type": "execute_result"
        },
        {
          "data": {
            "image/png": "[encoded data removed]",
            "text/plain": [
              "<Figure size 864x648 with 2 Axes>"
            ]
          },
          "metadata": {},
          "output_type": "display_data"
        }
      ],
      "source": [
        "#generating heatmap\n",
        "sns.set(rc = {'figure.figsize':(12,9)})\n",
        "sns.heatmap(zomato.corr())"
      ]
    },
    {
      "cell_type": "markdown",
      "id": "96984a15",
      "metadata": {
        "id": "96984a15"
      },
      "source": [
        "The heatmap shows how each features are correlated with price based on colour. "
      ]
    },
    {
      "cell_type": "markdown",
      "source": [
        "Grouped and trained features. I grouped all features for predicting price into the X variable and put price in a variable called y. I Trained and tested the data and also fitted data to the linear regression model."
      ],
      "metadata": {
        "id": "J3vI7I5xO9Bm"
      },
      "id": "J3vI7I5xO9Bm"
    },
    {
      "cell_type": "code",
      "execution_count": null,
      "id": "6825ae61",
      "metadata": {
        "id": "6825ae61",
        "outputId": "9d98c27f-e06c-47e1-b28d-65ecf7e2e4d7"
      },
      "outputs": [
        {
          "data": {
            "text/html": [
              "<div>\n",
              "<style scoped>\n",
              "    .dataframe tbody tr th:only-of-type {\n",
              "        vertical-align: middle;\n",
              "    }\n",
              "\n",
              "    .dataframe tbody tr th {\n",
              "        vertical-align: top;\n",
              "    }\n",
              "\n",
              "    .dataframe thead th {\n",
              "        text-align: right;\n",
              "    }\n",
              "</style>\n",
              "<table border=\"1\" class=\"dataframe\">\n",
              "  <thead>\n",
              "    <tr style=\"text-align: right;\">\n",
              "      <th></th>\n",
              "      <th>Longitude</th>\n",
              "      <th>Latitude</th>\n",
              "      <th>Average_Cost_for_two</th>\n",
              "      <th>Currency</th>\n",
              "      <th>Has_Online_delivery</th>\n",
              "      <th>Is_delivering_now</th>\n",
              "      <th>Price_range</th>\n",
              "      <th>Aggregate_rating</th>\n",
              "      <th>Rating_text</th>\n",
              "      <th>Votes</th>\n",
              "    </tr>\n",
              "  </thead>\n",
              "  <tbody>\n",
              "    <tr>\n",
              "      <th>0</th>\n",
              "      <td>121.027535</td>\n",
              "      <td>14.565443</td>\n",
              "      <td>1100</td>\n",
              "      <td>0</td>\n",
              "      <td>0</td>\n",
              "      <td>0</td>\n",
              "      <td>3</td>\n",
              "      <td>4.8</td>\n",
              "      <td>1</td>\n",
              "      <td>314</td>\n",
              "    </tr>\n",
              "    <tr>\n",
              "      <th>1</th>\n",
              "      <td>121.014101</td>\n",
              "      <td>14.553708</td>\n",
              "      <td>1200</td>\n",
              "      <td>0</td>\n",
              "      <td>0</td>\n",
              "      <td>0</td>\n",
              "      <td>3</td>\n",
              "      <td>4.5</td>\n",
              "      <td>1</td>\n",
              "      <td>591</td>\n",
              "    </tr>\n",
              "    <tr>\n",
              "      <th>2</th>\n",
              "      <td>121.056831</td>\n",
              "      <td>14.581404</td>\n",
              "      <td>4000</td>\n",
              "      <td>0</td>\n",
              "      <td>0</td>\n",
              "      <td>0</td>\n",
              "      <td>4</td>\n",
              "      <td>4.4</td>\n",
              "      <td>5</td>\n",
              "      <td>270</td>\n",
              "    </tr>\n",
              "    <tr>\n",
              "      <th>3</th>\n",
              "      <td>121.056475</td>\n",
              "      <td>14.585318</td>\n",
              "      <td>1500</td>\n",
              "      <td>0</td>\n",
              "      <td>0</td>\n",
              "      <td>0</td>\n",
              "      <td>4</td>\n",
              "      <td>4.9</td>\n",
              "      <td>1</td>\n",
              "      <td>365</td>\n",
              "    </tr>\n",
              "    <tr>\n",
              "      <th>4</th>\n",
              "      <td>121.057508</td>\n",
              "      <td>14.584450</td>\n",
              "      <td>1500</td>\n",
              "      <td>0</td>\n",
              "      <td>0</td>\n",
              "      <td>0</td>\n",
              "      <td>4</td>\n",
              "      <td>4.8</td>\n",
              "      <td>1</td>\n",
              "      <td>229</td>\n",
              "    </tr>\n",
              "  </tbody>\n",
              "</table>\n",
              "</div>"
            ],
            "text/plain": [
              "    Longitude   Latitude  Average_Cost_for_two  Currency  Has_Online_delivery  \\\n",
              "0  121.027535  14.565443                  1100         0                    0   \n",
              "1  121.014101  14.553708                  1200         0                    0   \n",
              "2  121.056831  14.581404                  4000         0                    0   \n",
              "3  121.056475  14.585318                  1500         0                    0   \n",
              "4  121.057508  14.584450                  1500         0                    0   \n",
              "\n",
              "   Is_delivering_now  Price_range  Aggregate_rating  Rating_text  Votes  \n",
              "0                  0            3               4.8            1    314  \n",
              "1                  0            3               4.5            1    591  \n",
              "2                  0            4               4.4            5    270  \n",
              "3                  0            4               4.9            1    365  \n",
              "4                  0            4               4.8            1    229  "
            ]
          },
          "execution_count": 16,
          "metadata": {},
          "output_type": "execute_result"
        }
      ],
      "source": [
        "#selecting and grouping columns for X and y\n",
        "X = zomato.iloc[:, :-3].values\n",
        "y= zomato.iloc[:, 3].values\n",
        "zomato.head()"
      ]
    },
    {
      "cell_type": "code",
      "execution_count": null,
      "id": "80c10d7b",
      "metadata": {
        "id": "80c10d7b"
      },
      "outputs": [],
      "source": [
        "#training and testing my data\n",
        "from sklearn.model_selection import train_test_split\n",
        "X_train, X_test, y_train, y_test = train_test_split(X,y,test_size = 0.2, random_state = 0)"
      ]
    },
    {
      "cell_type": "code",
      "execution_count": null,
      "id": "a535be94",
      "metadata": {
        "id": "a535be94",
        "outputId": "2cbb6558-6b1e-4910-89b9-a05113969be8"
      },
      "outputs": [
        {
          "data": {
            "text/plain": [
              "LinearRegression()"
            ]
          },
          "execution_count": 18,
          "metadata": {},
          "output_type": "execute_result"
        }
      ],
      "source": [
        "#fitting multiple linear regression to the training set\n",
        "from sklearn.linear_model import LinearRegression\n",
        "regressor=LinearRegression()\n",
        "regressor.fit(X_train,y_train)"
      ]
    },
    {
      "cell_type": "markdown",
      "source": [
        "Predicted the price range and compared it with the original price range."
      ],
      "metadata": {
        "id": "8JYaBpI0PbTP"
      },
      "id": "8JYaBpI0PbTP"
    },
    {
      "cell_type": "code",
      "execution_count": null,
      "id": "25c73868",
      "metadata": {
        "id": "25c73868",
        "outputId": "8ef88a31-ff0e-40c0-84a4-bb44ef38561e"
      },
      "outputs": [
        {
          "data": {
            "text/plain": [
              "array([4., 4., 4., ..., 4., 4., 4.])"
            ]
          },
          "execution_count": 19,
          "metadata": {},
          "output_type": "execute_result"
        }
      ],
      "source": [
        "#predicting price range\n",
        "y_pred =regressor.predict(X_test)\n",
        "y_pred"
      ]
    },
    {
      "cell_type": "code",
      "source": [
        "pred = pd.DataFrame(X_test)\n",
        "pred['actual_price_range'] = y_test\n",
        "pred['pred_price'] = y_pred\n",
        "pred"
      ],
      "metadata": {
        "id": "H25h9-jlPfQM"
      },
      "id": "H25h9-jlPfQM",
      "execution_count": null,
      "outputs": []
    },
    {
      "cell_type": "markdown",
      "source": [
        "Checked how accurate the model is in predicting price and plotted the linear regression line to properly see this. The r2_score gave an accurate score of 1.0 and the graph showed the model was perfect in predicting price."
      ],
      "metadata": {
        "id": "XP48NPjiPrMg"
      },
      "id": "XP48NPjiPrMg"
    },
    {
      "cell_type": "code",
      "execution_count": null,
      "id": "c5604ab7",
      "metadata": {
        "id": "c5604ab7"
      },
      "outputs": [],
      "source": [
        "#How accurate is my prediction\n",
        "from sklearn.metrics import r2_score\n",
        "r2_score(y_test, y_pred)"
      ]
    },
    {
      "cell_type": "code",
      "execution_count": null,
      "id": "68270c6d",
      "metadata": {
        "id": "68270c6d",
        "outputId": "1ac79536-f280-4ac2-b205-a2ec54414fdc"
      },
      "outputs": [
        {
          "data": {
            "image/png": "[encoded data removed]",
            "text/plain": [
              "<Figure size 864x648 with 1 Axes>"
            ]
          },
          "metadata": {},
          "output_type": "display_data"
        }
      ],
      "source": [
        "\n",
        "sns.regplot(x = y_test, y= y_pred, ci = None, color = 'blue');"
      ]
    },
    {
      "cell_type": "code",
      "execution_count": null,
      "id": "c169bd5b",
      "metadata": {
        "id": "c169bd5b"
      },
      "outputs": [],
      "source": []
    }
  ],
  "metadata": {
    "kernelspec": {
      "display_name": "Python 3 (ipykernel)",
      "language": "python",
      "name": "python3"
    },
    "language_info": {
      "codemirror_mode": {
        "name": "ipython",
        "version": 3
      },
      "file_extension": ".py",
      "mimetype": "text/x-python",
      "name": "python",
      "nbconvert_exporter": "python",
      "pygments_lexer": "ipython3",
      "version": "3.9.12"
    },
    "colab": {
      "provenance": []
    }
  },
  "nbformat": 4,
  "nbformat_minor": 5
}